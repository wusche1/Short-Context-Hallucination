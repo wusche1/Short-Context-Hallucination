{
 "cells": [
  {
   "cell_type": "code",
   "execution_count": 24,
   "metadata": {},
   "outputs": [],
   "source": [
    "import json\n",
    "import os\n",
    "from typing import List, Optional, Dict, Any, Tuple\n",
    "import torch as t\n",
    "from transformers import AutoTokenizer, AutoModelForCausalLM\n",
    "from conversation_lib import Conversation\n",
    "from tqdm import tqdm\n",
    "from gpt_lib import rate_answer\n"
   ]
  },
  {
   "cell_type": "code",
   "execution_count": 17,
   "metadata": {},
   "outputs": [],
   "source": [
    "def load_data(datafile: str) -> List[Dict[str, Any]]:\n",
    "    with open(datafile, 'r') as f:\n",
    "        data = json.load(f)\n",
    "    return data\n",
    "def save_data(data: List[Dict[str, Any]], datafile: str) -> None:\n",
    "    with open(datafile,'w') as f:\n",
    "        json.dump(data, f, indent=4)"
   ]
  },
  {
   "cell_type": "code",
   "execution_count": 18,
   "metadata": {},
   "outputs": [],
   "source": [
    "datafile = 'no_reminders.json'\n",
    "data = load_data(datafile)\n",
    "answers_list_list = data[\"answers_list_list\"]\n",
    "rating_list_list = []\n",
    "task_list = load_data('tasks.json')"
   ]
  },
  {
   "cell_type": "code",
   "execution_count": 20,
   "metadata": {},
   "outputs": [],
   "source": [
    "for answers_list in answers_list_list:\n",
    "    rating_list = []\n",
    "    for answers , task in zip(answers_list, task_list):\n",
    "        request = task[\"message_start\"]\n",
    "        question = task[\"message_end\"]\n",
    "        ratings = []\n",
    "        for answer in answers:\n",
    "            rating = rate_answer(request, question, answer)\n",
    "            ratings.append(rating)\n",
    "        rating_list.append(ratings)\n",
    "    rating_list_list.append(rating_list)"
   ]
  },
  {
   "cell_type": "code",
   "execution_count": 21,
   "metadata": {},
   "outputs": [],
   "source": [
    "data[\"rating_list_list\" ] = rating_list_list\n",
    "save_data(data, datafile)"
   ]
  },
  {
   "cell_type": "code",
   "execution_count": 31,
   "metadata": {},
   "outputs": [],
   "source": [
    "def count_classification(rating_list: List[List[Tuple[str,str,int]]]) -> int:\n",
    "    classification_dict = {}\n",
    "    translation_dict = {\"Correct\": \"Correct\",\n",
    "                        \"1\":\"Correct\",\n",
    "                        \"Refusal\":\"Refusal\",\n",
    "                        \"2\":\"Refusal\",\n",
    "                        \"Incorrect\":\"Incorrect\",\n",
    "                        \"3\":\"Incorrect\"}\n",
    "    for ratings in rating_list:\n",
    "        for rating in ratings:\n",
    "            classification = rating[0]\n",
    "            classification = translation_dict[classification]\n",
    "            if classification not in classification_dict:\n",
    "                classification_dict[classification] = 0\n",
    "            classification_dict[classification] += 1\n",
    "    return classification_dict\n",
    "classification_dict_1 = count_classification(rating_list_list[0])\n",
    "classification_dict_2 = count_classification(rating_list_list[1])"
   ]
  },
  {
   "cell_type": "code",
   "execution_count": 35,
   "metadata": {},
   "outputs": [
    {
     "data": {
      "text/plain": [
       "{'Incorrect': 38, 'Correct': 78, 'Refusal': 58}"
      ]
     },
     "execution_count": 35,
     "metadata": {},
     "output_type": "execute_result"
    }
   ],
   "source": [
    "classification_dict_1"
   ]
  },
  {
   "cell_type": "code",
   "execution_count": 36,
   "metadata": {},
   "outputs": [
    {
     "data": {
      "text/plain": [
       "{'Incorrect': 59, 'Refusal': 113, 'Correct': 2}"
      ]
     },
     "execution_count": 36,
     "metadata": {},
     "output_type": "execute_result"
    }
   ],
   "source": [
    "classification_dict_2"
   ]
  },
  {
   "cell_type": "code",
   "execution_count": 12,
   "metadata": {},
   "outputs": [],
   "source": [
    "answers_list_list = [answers_list[1:] for answers_list in answers_list_list]"
   ]
  },
  {
   "cell_type": "code",
   "execution_count": 15,
   "metadata": {},
   "outputs": [],
   "source": [
    "data[\"answers_list_list\"] = answers_list_list\n",
    "\n",
    "save_data(data, datafile)"
   ]
  },
  {
   "cell_type": "code",
   "execution_count": null,
   "metadata": {},
   "outputs": [],
   "source": []
  }
 ],
 "metadata": {
  "kernelspec": {
   "display_name": "my_env",
   "language": "python",
   "name": "python3"
  },
  "language_info": {
   "codemirror_mode": {
    "name": "ipython",
    "version": 3
   },
   "file_extension": ".py",
   "mimetype": "text/x-python",
   "name": "python",
   "nbconvert_exporter": "python",
   "pygments_lexer": "ipython3",
   "version": "3.9.19"
  }
 },
 "nbformat": 4,
 "nbformat_minor": 2
}
